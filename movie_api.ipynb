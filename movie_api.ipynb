{
 "cells": [
  {
   "cell_type": "code",
   "execution_count": 2,
   "metadata": {},
   "outputs": [],
   "source": [
    "from config import api_key\n",
    "import requests\n",
    "\n",
    "import pandas as pd"
   ]
  },
  {
   "cell_type": "code",
   "execution_count": 4,
   "metadata": {},
   "outputs": [],
   "source": [
    "response = requests.get('https://api.themoviedb.org/3/discover/movie?api_key=' +  api_key + '&primary_release_year=2017&sort_by=revenue.desc')"
   ]
  },
  {
   "cell_type": "code",
   "execution_count": 29,
   "metadata": {},
   "outputs": [
    {
     "data": {
      "text/plain": [
       "['Star Wars: The Last Jedi',\n",
       " 'Beauty and the Beast',\n",
       " 'The Fate of the Furious',\n",
       " 'Despicable Me 3',\n",
       " 'Jumanji: Welcome to the Jungle',\n",
       " 'Spider-Man: Homecoming',\n",
       " 'Wolf Warrior 2',\n",
       " 'Guardians of the Galaxy Vol. 2',\n",
       " 'Thor: Ragnarok',\n",
       " 'Wonder Woman',\n",
       " 'Coco',\n",
       " 'Pirates of the Caribbean: Dead Men Tell No Tales',\n",
       " 'It',\n",
       " 'Justice League',\n",
       " 'Logan',\n",
       " 'Transformers: The Last Knight',\n",
       " 'Kong: Skull Island',\n",
       " 'Dunkirk',\n",
       " 'The Boss Baby',\n",
       " 'War for the Planet of the Apes']"
      ]
     },
     "execution_count": 29,
     "metadata": {},
     "output_type": "execute_result"
    }
   ],
   "source": [
    "highest_revenue = response.json()\n",
    "highest_revenue = highest_revenue[\"results\"]\n",
    "highest_revenue\n",
    "\n",
    "the_movies = []\n",
    "for movie in highest_revenue: \n",
    "    results = movie['title']\n",
    "    the_movies.append(results)\n",
    "    \n",
    "the_movies\n",
    "    \n"
   ]
  }
 ],
 "metadata": {
  "kernelspec": {
   "display_name": "Python 3",
   "language": "python",
   "name": "python3"
  },
  "language_info": {
   "codemirror_mode": {
    "name": "ipython",
    "version": 3
   },
   "file_extension": ".py",
   "mimetype": "text/x-python",
   "name": "python",
   "nbconvert_exporter": "python",
   "pygments_lexer": "ipython3",
   "version": "3.8.3"
  }
 },
 "nbformat": 4,
 "nbformat_minor": 4
}
