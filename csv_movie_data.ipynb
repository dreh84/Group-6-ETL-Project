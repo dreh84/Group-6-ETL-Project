{
 "cells": [
  {
   "cell_type": "code",
   "execution_count": 5,
   "metadata": {},
   "outputs": [],
   "source": [
    "import os\n",
    "import pandas as pd"
   ]
  },
  {
   "cell_type": "code",
   "execution_count": 20,
   "metadata": {},
   "outputs": [],
   "source": [
    "movie_path = os.path.join(\"Resources\", 'MoviesOnStreamingPlatforms_updated.csv')\n",
    "movies_db = pd.read_csv(movie_path, index_col= False)\n"
   ]
  },
  {
   "cell_type": "code",
   "execution_count": 29,
   "metadata": {},
   "outputs": [
    {
     "name": "stdout",
     "output_type": "stream",
     "text": [
      "[2010, 1999, 2018, 1985, 1966, 2018, 2002, 2012, 1981, 2009, 1976, 2009, 2006, 2015, 1975, 1968, 1989, 1993, 2010, 2013]\n"
     ]
    }
   ],
   "source": [
    "titles = []\n",
    "years = []\n",
    "for index, rows in movies_db[:20].iterrows():\n",
    "    movies_list = rows.Title\n",
    "    movies_year = rows.Year\n",
    "    \n",
    "    titles.append(movies_list)\n",
    "    years.append(movies_year)\n",
    "    \n",
    "print(years)\n",
    "    "
   ]
  }
 ],
 "metadata": {
  "kernelspec": {
   "display_name": "Python 3",
   "language": "python",
   "name": "python3"
  },
  "language_info": {
   "codemirror_mode": {
    "name": "ipython",
    "version": 3
   },
   "file_extension": ".py",
   "mimetype": "text/x-python",
   "name": "python",
   "nbconvert_exporter": "python",
   "pygments_lexer": "ipython3",
   "version": "3.8.3"
  }
 },
 "nbformat": 4,
 "nbformat_minor": 4
}
