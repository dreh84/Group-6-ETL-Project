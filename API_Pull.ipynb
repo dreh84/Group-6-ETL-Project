{
 "cells": [
  {
   "cell_type": "code",
   "execution_count": 62,
   "metadata": {},
   "outputs": [],
   "source": [
    "from config import api_key\n",
    "import requests\n",
    "from pprint import pprint"
   ]
  },
  {
   "cell_type": "code",
   "execution_count": 52,
   "metadata": {},
   "outputs": [],
   "source": [
    "import pandas as pd"
   ]
  },
  {
   "cell_type": "code",
   "execution_count": null,
   "metadata": {},
   "outputs": [],
   "source": []
  },
  {
   "cell_type": "code",
   "execution_count": 74,
   "metadata": {},
   "outputs": [],
   "source": [
    "response = requests.get('https://api.themoviedb.org/3/search/movie?api_key=' + api_key + '&language=en-US&query='+ '' +'&year='+ 'year')"
   ]
  },
  {
   "cell_type": "code",
   "execution_count": 76,
   "metadata": {},
   "outputs": [
    {
     "data": {
      "text/plain": [
       "{'page': 1,\n",
       " 'total_results': 1,\n",
       " 'total_pages': 1,\n",
       " 'results': [{'popularity': 61.804,\n",
       "   'vote_count': 11145,\n",
       "   'video': False,\n",
       "   'poster_path': '/kOVEVeg59E0wsnXmF9nrh6OmWII.jpg',\n",
       "   'id': 181808,\n",
       "   'adult': False,\n",
       "   'backdrop_path': '/5Iw7zQTHVRBOYpA0V6z0yypOPZh.jpg',\n",
       "   'original_language': 'en',\n",
       "   'original_title': 'Star Wars: The Last Jedi',\n",
       "   'genre_ids': [28, 12, 878],\n",
       "   'title': 'Star Wars: The Last Jedi',\n",
       "   'vote_average': 6.9,\n",
       "   'overview': 'Rey develops her newly discovered abilities with the guidance of Luke Skywalker, who is unsettled by the strength of her powers. Meanwhile, the Resistance prepares to do battle with the First Order.',\n",
       "   'release_date': '2017-12-13'}]}"
      ]
     },
     "execution_count": 76,
     "metadata": {},
     "output_type": "execute_result"
    }
   ],
   "source": [
    "response.json()"
   ]
  },
  {
   "cell_type": "code",
   "execution_count": null,
   "metadata": {},
   "outputs": [],
   "source": []
  },
  {
   "cell_type": "code",
   "execution_count": 69,
   "metadata": {},
   "outputs": [],
   "source": [
    "response = requests.get('https://api.themoviedb.org/3/discover/movie?api_key=' +  api_key + '&primary_release_year=2017&sort_by=revenue.desc')"
   ]
  },
  {
   "cell_type": "code",
   "execution_count": 70,
   "metadata": {},
   "outputs": [
    {
     "data": {
      "text/plain": [
       "{'popularity': 61.804,\n",
       " 'vote_count': 11145,\n",
       " 'video': False,\n",
       " 'poster_path': '/kOVEVeg59E0wsnXmF9nrh6OmWII.jpg',\n",
       " 'id': 181808,\n",
       " 'adult': False,\n",
       " 'backdrop_path': '/5Iw7zQTHVRBOYpA0V6z0yypOPZh.jpg',\n",
       " 'original_language': 'en',\n",
       " 'original_title': 'Star Wars: The Last Jedi',\n",
       " 'genre_ids': [28, 12, 878],\n",
       " 'title': 'Star Wars: The Last Jedi',\n",
       " 'vote_average': 6.9,\n",
       " 'overview': 'Rey develops her newly discovered abilities with the guidance of Luke Skywalker, who is unsettled by the strength of her powers. Meanwhile, the Resistance prepares to do battle with the First Order.',\n",
       " 'release_date': '2017-12-13'}"
      ]
     },
     "execution_count": 70,
     "metadata": {},
     "output_type": "execute_result"
    }
   ],
   "source": [
    "highest_revenue = response.json()\n",
    "highest_revenue = highest_revenue['results']\n",
    "highest_revenue[0]"
   ]
  },
  {
   "cell_type": "code",
   "execution_count": 29,
   "metadata": {},
   "outputs": [
    {
     "data": {
      "text/html": [
       "<div>\n",
       "<style scoped>\n",
       "    .dataframe tbody tr th:only-of-type {\n",
       "        vertical-align: middle;\n",
       "    }\n",
       "\n",
       "    .dataframe tbody tr th {\n",
       "        vertical-align: top;\n",
       "    }\n",
       "\n",
       "    .dataframe thead th {\n",
       "        text-align: right;\n",
       "    }\n",
       "</style>\n",
       "<table border=\"1\" class=\"dataframe\">\n",
       "  <thead>\n",
       "    <tr style=\"text-align: right;\">\n",
       "      <th></th>\n",
       "      <th>film</th>\n",
       "      <th>revenue</th>\n",
       "    </tr>\n",
       "  </thead>\n",
       "  <tbody>\n",
       "  </tbody>\n",
       "</table>\n",
       "</div>"
      ],
      "text/plain": [
       "Empty DataFrame\n",
       "Columns: [film, revenue]\n",
       "Index: []"
      ]
     },
     "execution_count": 29,
     "metadata": {},
     "output_type": "execute_result"
    }
   ],
   "source": [
    "columns = ['film', 'revenue']\n",
    "df = pd.DataFrame(columns=columns)\n",
    "df.head()"
   ]
  },
  {
   "cell_type": "code",
   "execution_count": 72,
   "metadata": {},
   "outputs": [],
   "source": [
    "for film in highest_revenue:\n",
    "    # print(film['title'])\n",
    "    film_revenue = requests.get('https://api.themoviedb.org/3/movie/'+ str(film['id']) +'?api_key='+ api_key+'&language=en-US')\n",
    "    film_revenue = film_revenue.json()\n",
    "    #print(locale.currency(film_revenue['revenue'], grouping=True ))\n",
    "    df.loc[len(df)]=[film['title'],film_revenue['revenue']] # store title and revenue in our dataframe"
   ]
  },
  {
   "cell_type": "code",
   "execution_count": 46,
   "metadata": {},
   "outputs": [
    {
     "data": {
      "text/html": [
       "<div>\n",
       "<style scoped>\n",
       "    .dataframe tbody tr th:only-of-type {\n",
       "        vertical-align: middle;\n",
       "    }\n",
       "\n",
       "    .dataframe tbody tr th {\n",
       "        vertical-align: top;\n",
       "    }\n",
       "\n",
       "    .dataframe thead th {\n",
       "        text-align: right;\n",
       "    }\n",
       "</style>\n",
       "<table border=\"1\" class=\"dataframe\">\n",
       "  <thead>\n",
       "    <tr style=\"text-align: right;\">\n",
       "      <th></th>\n",
       "      <th>film</th>\n",
       "      <th>revenue</th>\n",
       "    </tr>\n",
       "  </thead>\n",
       "  <tbody>\n",
       "    <tr>\n",
       "      <th>0</th>\n",
       "      <td>Star Wars: The Last Jedi</td>\n",
       "      <td>1332539889</td>\n",
       "    </tr>\n",
       "    <tr>\n",
       "      <th>1</th>\n",
       "      <td>Beauty and the Beast</td>\n",
       "      <td>1263521126</td>\n",
       "    </tr>\n",
       "    <tr>\n",
       "      <th>2</th>\n",
       "      <td>The Fate of the Furious</td>\n",
       "      <td>1238764765</td>\n",
       "    </tr>\n",
       "    <tr>\n",
       "      <th>3</th>\n",
       "      <td>Despicable Me 3</td>\n",
       "      <td>1031552585</td>\n",
       "    </tr>\n",
       "    <tr>\n",
       "      <th>4</th>\n",
       "      <td>Jumanji: Welcome to the Jungle</td>\n",
       "      <td>962102237</td>\n",
       "    </tr>\n",
       "    <tr>\n",
       "      <th>5</th>\n",
       "      <td>Spider-Man: Homecoming</td>\n",
       "      <td>880166924</td>\n",
       "    </tr>\n",
       "    <tr>\n",
       "      <th>6</th>\n",
       "      <td>Wolf Warrior 2</td>\n",
       "      <td>870322670</td>\n",
       "    </tr>\n",
       "    <tr>\n",
       "      <th>7</th>\n",
       "      <td>Guardians of the Galaxy Vol. 2</td>\n",
       "      <td>863756051</td>\n",
       "    </tr>\n",
       "    <tr>\n",
       "      <th>8</th>\n",
       "      <td>Thor: Ragnarok</td>\n",
       "      <td>853977126</td>\n",
       "    </tr>\n",
       "    <tr>\n",
       "      <th>9</th>\n",
       "      <td>Wonder Woman</td>\n",
       "      <td>821847012</td>\n",
       "    </tr>\n",
       "    <tr>\n",
       "      <th>10</th>\n",
       "      <td>Coco</td>\n",
       "      <td>800526015</td>\n",
       "    </tr>\n",
       "    <tr>\n",
       "      <th>11</th>\n",
       "      <td>Pirates of the Caribbean: Dead Men Tell No Tales</td>\n",
       "      <td>794861794</td>\n",
       "    </tr>\n",
       "    <tr>\n",
       "      <th>12</th>\n",
       "      <td>It</td>\n",
       "      <td>701796444</td>\n",
       "    </tr>\n",
       "    <tr>\n",
       "      <th>13</th>\n",
       "      <td>Justice League</td>\n",
       "      <td>657924295</td>\n",
       "    </tr>\n",
       "    <tr>\n",
       "      <th>14</th>\n",
       "      <td>Logan</td>\n",
       "      <td>619021436</td>\n",
       "    </tr>\n",
       "    <tr>\n",
       "      <th>15</th>\n",
       "      <td>Transformers: The Last Knight</td>\n",
       "      <td>605425157</td>\n",
       "    </tr>\n",
       "    <tr>\n",
       "      <th>16</th>\n",
       "      <td>Kong: Skull Island</td>\n",
       "      <td>566652812</td>\n",
       "    </tr>\n",
       "    <tr>\n",
       "      <th>17</th>\n",
       "      <td>Dunkirk</td>\n",
       "      <td>525573161</td>\n",
       "    </tr>\n",
       "    <tr>\n",
       "      <th>18</th>\n",
       "      <td>The Boss Baby</td>\n",
       "      <td>498814908</td>\n",
       "    </tr>\n",
       "    <tr>\n",
       "      <th>19</th>\n",
       "      <td>War for the Planet of the Apes</td>\n",
       "      <td>488533726</td>\n",
       "    </tr>\n",
       "  </tbody>\n",
       "</table>\n",
       "</div>"
      ],
      "text/plain": [
       "                                                film     revenue\n",
       "0                           Star Wars: The Last Jedi  1332539889\n",
       "1                               Beauty and the Beast  1263521126\n",
       "2                            The Fate of the Furious  1238764765\n",
       "3                                    Despicable Me 3  1031552585\n",
       "4                     Jumanji: Welcome to the Jungle   962102237\n",
       "5                             Spider-Man: Homecoming   880166924\n",
       "6                                     Wolf Warrior 2   870322670\n",
       "7                     Guardians of the Galaxy Vol. 2   863756051\n",
       "8                                     Thor: Ragnarok   853977126\n",
       "9                                       Wonder Woman   821847012\n",
       "10                                              Coco   800526015\n",
       "11  Pirates of the Caribbean: Dead Men Tell No Tales   794861794\n",
       "12                                                It   701796444\n",
       "13                                    Justice League   657924295\n",
       "14                                             Logan   619021436\n",
       "15                     Transformers: The Last Knight   605425157\n",
       "16                                Kong: Skull Island   566652812\n",
       "17                                           Dunkirk   525573161\n",
       "18                                     The Boss Baby   498814908\n",
       "19                    War for the Planet of the Apes   488533726"
      ]
     },
     "execution_count": 46,
     "metadata": {},
     "output_type": "execute_result"
    }
   ],
   "source": [
    "df"
   ]
  },
  {
   "cell_type": "code",
   "execution_count": null,
   "metadata": {},
   "outputs": [],
   "source": []
  }
 ],
 "metadata": {
  "kernelspec": {
   "display_name": "Python 3",
   "language": "python",
   "name": "python3"
  },
  "language_info": {
   "codemirror_mode": {
    "name": "ipython",
    "version": 3
   },
   "file_extension": ".py",
   "mimetype": "text/x-python",
   "name": "python",
   "nbconvert_exporter": "python",
   "pygments_lexer": "ipython3",
   "version": "3.7.6"
  }
 },
 "nbformat": 4,
 "nbformat_minor": 4
}
